{
  "nbformat": 4,
  "nbformat_minor": 0,
  "metadata": {
    "colab": {
      "provenance": [],
      "authorship_tag": "ABX9TyMFYeXAzsqm61v+rmnLkMrg",
      "include_colab_link": true
    },
    "kernelspec": {
      "name": "python3",
      "display_name": "Python 3"
    },
    "language_info": {
      "name": "python"
    }
  },
  "cells": [
    {
      "cell_type": "markdown",
      "metadata": {
        "id": "view-in-github",
        "colab_type": "text"
      },
      "source": [
        "<a href=\"https://colab.research.google.com/github/ShuimuZeng/Resnet/blob/main/Resnet.ipynb\" target=\"_parent\"><img src=\"https://colab.research.google.com/assets/colab-badge.svg\" alt=\"Open In Colab\"/></a>"
      ]
    },
    {
      "cell_type": "markdown",
      "source": [
        "https://towardsdatascience.com/the-w3h-of-alexnet-vggnet-resnet-and-inception-7baaaecccc96"
      ],
      "metadata": {
        "id": "TVtOLRu7y4Rn"
      }
    },
    {
      "cell_type": "code",
      "execution_count": null,
      "metadata": {
        "id": "joMHGXozie3K"
      },
      "outputs": [],
      "source": [
        "import tensorflow as tf\n",
        "\n",
        "def resnet_block(inputs, filters, strides=1):\n",
        "    \"\"\"A single ResNet block.\"\"\"\n",
        "\n",
        "    shortcut = inputs\n",
        "\n",
        "    # First convolutional layer\n",
        "    x = tf.keras.layers.Conv2D(filters, (3, 3), strides=strides, padding=\"same\")(inputs)\n",
        "    x = tf.keras.layers.BatchNormalization()(x)\n",
        "    x = tf.keras.layers.Activation(\"relu\")(x)\n",
        "\n",
        "    # Second convolutional layer\n",
        "    x = tf.keras.layers.Conv2D(filters, (3, 3), padding=\"same\")(x)\n",
        "    x = tf.keras.layers.BatchNormalization()(x)\n",
        "\n",
        "    # Shortcut connection (if needed)\n",
        "    if strides != 1:\n",
        "        shortcut = tf.keras.layers.Conv2D(filters, (1, 1), strides=strides, padding=\"same\")(shortcut)\n",
        "        shortcut = tf.keras.layers.BatchNormalization()(shortcut)\n",
        "\n",
        "    # Add the shortcut and apply activation\n",
        "    x = tf.keras.layers.Add()([x, shortcut])\n",
        "    x = tf.keras.layers.Activation(\"relu\")(x)\n",
        "\n",
        "    return x\n",
        "\n",
        "\n",
        "def create_resnet(input_shape, num_classes):\n",
        "    \"\"\"Creates a ResNet model.\"\"\"\n",
        "\n",
        "    inputs = tf.keras.Input(shape=input_shape)\n",
        "\n",
        "    # Initial convolutional layer\n",
        "    x = tf.keras.layers.Conv2D(64, (7, 7), strides=2, padding=\"same\")(inputs)\n",
        "    x = tf.keras.layers.BatchNormalization()(x)\n",
        "    x = tf.keras.layers.Activation(\"relu\")(x)\n",
        "    x = tf.keras.layers.MaxPooling2D((3, 3), strides=2, padding=\"same\")(x)\n",
        "\n",
        "    # ResNet blocks\n",
        "    x = resnet_block(x, 64)\n",
        "    x = resnet_block(x, 64)\n",
        "    x = resnet_block(x, 128, strides=2)\n",
        "    x = resnet_block(x, 128)\n",
        "    x = resnet_block(x, 256, strides=2)\n",
        "    x = resnet_block(x, 256)\n",
        "    x = resnet_block(x, 512, strides=2)\n",
        "    x = resnet_block(x, 512)\n",
        "\n",
        "    # Global average pooling and classification\n",
        "    x = tf.keras.layers.GlobalAveragePooling2D()(x)\n",
        "    outputs = tf.keras.layers.Dense(num_classes, activation=\"softmax\")(x)\n",
        "\n",
        "    # Create the model\n",
        "    model = tf.keras.Model(inputs=inputs, outputs=outputs)\n",
        "\n",
        "    return model"
      ]
    },
    {
      "cell_type": "code",
      "source": [
        "# Define input shape and number of classes\n",
        "input_shape = (224, 224, 3)  # Example input shape\n",
        "num_classes = 10  # Example number of classes\n",
        "\n",
        "# Create the ResNet model\n",
        "model = create_resnet(input_shape, num_classes)\n",
        "\n",
        "# Compile the model\n",
        "model.compile(optimizer=\"adam\", loss=\"categorical_crossentropy\", metrics=[\"accuracy\"])\n",
        "\n",
        "# Train the model\n",
        "# ..."
      ],
      "metadata": {
        "id": "FSasAyyUixea"
      },
      "execution_count": null,
      "outputs": []
    }
  ]
}